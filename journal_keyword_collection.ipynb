{
 "cells": [
  {
   "cell_type": "code",
   "execution_count": null,
   "metadata": {},
   "outputs": [],
   "source": [
    "import ads\n",
    "import json\n",
    "import pandas as pd\n",
    "import requests\n",
    "from bs4 import BeautifulSoup\n",
    "import time\n",
    "ads.config.token = 'Please get your own ADS token'"
   ]
  },
  {
   "cell_type": "code",
   "execution_count": null,
   "metadata": {},
   "outputs": [],
   "source": [
    "#make a list of all doi-s\n",
    "paper_doi=[]\n",
    "\n",
    "#make the list of keywords\n",
    "list_of_keywords=[]"
   ]
  },
  {
   "cell_type": "code",
   "execution_count": null,
   "metadata": {},
   "outputs": [],
   "source": [
    "q = ads.SearchQuery(q=\"pub:\\\"{journal}\\\" year:{year}\".format(journal='Nature Astronomy', year='2017'), \\\n",
    "                    fl=['doi'], rows=500)\n",
    "q.execute()\n",
    "\n",
    "df = pd.DataFrame.from_dict(q.response.json['response']['docs']) \n",
    "\n",
    "papers_2017=df['doi'].tolist()\n",
    "\n",
    "for papers in papers_2017:\n",
    "    paper_doi.append(papers)"
   ]
  },
  {
   "cell_type": "code",
   "execution_count": null,
   "metadata": {},
   "outputs": [],
   "source": [
    "q = ads.SearchQuery(q=\"pub:\\\"{journal}\\\" year:{year}\".format(journal='Nature Astronomy', year='2018'), \\\n",
    "                    fl=['doi'], rows=500)\n",
    "q.execute()\n",
    "\n",
    "df = pd.DataFrame.from_dict(q.response.json['response']['docs']) \n",
    "\n",
    "papers_2018=df['doi'].tolist()\n",
    "\n",
    "for papers in papers_2018:\n",
    "    paper_doi.append(papers)"
   ]
  },
  {
   "cell_type": "code",
   "execution_count": null,
   "metadata": {},
   "outputs": [],
   "source": [
    "q = ads.SearchQuery(q=\"pub:\\\"{journal}\\\" year:{year}\".format(journal='Nature Astronomy', year='2019'), \\\n",
    "                    fl=['doi'], rows=500)\n",
    "q.execute()\n",
    "\n",
    "df = pd.DataFrame.from_dict(q.response.json['response']['docs']) \n",
    "\n",
    "papers_2019=df['doi'].tolist()\n",
    "\n",
    "for papers in papers_2019:\n",
    "    paper_doi.append(papers)"
   ]
  },
  {
   "cell_type": "code",
   "execution_count": null,
   "metadata": {},
   "outputs": [],
   "source": [
    "for pap_doi in paper_doi:\n",
    "    for pap in pap_doi:\n",
    "        r = requests.get('http://dx.doi.org/'+pap)\n",
    "        soup = BeautifulSoup(r.text, 'html.parser')\n",
    "        results = soup.find_all('meta', attrs={'name':'dc.subject'})\n",
    "\n",
    "        for result in results:\n",
    "            if len(result.get('content'))>0:\n",
    "                list_of_keywords.append(result.get('content'))\n",
    "        time.sleep(1.0)\n",
    "#Ashu ke jiggasa korte hobe keno error dichche        "
   ]
  },
  {
   "cell_type": "code",
   "execution_count": 98,
   "metadata": {},
   "outputs": [],
   "source": [
    "with open(\"Nature_astronomy_keywords2.txt\", \"w\") as output:\n",
    "    output.write(str(list_of_keywords))"
   ]
  }
 ],
 "metadata": {
  "kernelspec": {
   "display_name": "Python 2",
   "language": "python",
   "name": "python2"
  },
  "language_info": {
   "codemirror_mode": {
    "name": "ipython",
    "version": 2
   },
   "file_extension": ".py",
   "mimetype": "text/x-python",
   "name": "python",
   "nbconvert_exporter": "python",
   "pygments_lexer": "ipython2",
   "version": "2.7.15"
  },
  "toc": {
   "base_numbering": 1,
   "nav_menu": {},
   "number_sections": true,
   "sideBar": true,
   "skip_h1_title": false,
   "title_cell": "Table of Contents",
   "title_sidebar": "Contents",
   "toc_cell": false,
   "toc_position": {},
   "toc_section_display": true,
   "toc_window_display": false
  },
  "varInspector": {
   "cols": {
    "lenName": 16,
    "lenType": 16,
    "lenVar": 40
   },
   "kernels_config": {
    "python": {
     "delete_cmd_postfix": "",
     "delete_cmd_prefix": "del ",
     "library": "var_list.py",
     "varRefreshCmd": "print(var_dic_list())"
    },
    "r": {
     "delete_cmd_postfix": ") ",
     "delete_cmd_prefix": "rm(",
     "library": "var_list.r",
     "varRefreshCmd": "cat(var_dic_list()) "
    }
   },
   "types_to_exclude": [
    "module",
    "function",
    "builtin_function_or_method",
    "instance",
    "_Feature"
   ],
   "window_display": false
  }
 },
 "nbformat": 4,
 "nbformat_minor": 2
}
